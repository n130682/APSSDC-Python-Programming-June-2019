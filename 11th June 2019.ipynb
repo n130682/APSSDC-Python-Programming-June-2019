{
 "cells": [
  {
   "cell_type": "markdown",
   "metadata": {},
   "source": [
    "## Markdown Basics\n",
    "  **Bold**\n",
    "* **Italic**\n",
    "* ***IB***\n",
    "\n",
    "* Normal Text\n",
    "    * sublist 1\n",
    "    * sublist 2\n",
    "    \n",
    "    \n",
    "1. Order of list of elements 1\n",
    "2. Order of list of elements 2\n",
    "\n",
    "\n",
    "- [ ] option1\n",
    "- [x] option 2\n",
    "\n",
    "\n",
    "I get 10 times more traffic from [Google] [1] than from\n",
    "[Yahoo] [2] or [MSN] [3].\n",
    "\n",
    "  [1]: http://google.com/        \"Google\"\n",
    "  [2]: http://search.yahoo.com/  \"Yahoo Search\"\n",
    "  [3]: http://search.msn.com/    \"MSN Search\"\n",
    "[Jupyter Logo](logo.png)\n",
    "![Jupyter Logo](logo.png)\n",
    "<img src=\"logo.png\"  style=\"float:left\">\n",
    "\n",
    "\n",
    "\n",
    "\n"
   ]
  },
  {
   "cell_type": "markdown",
   "metadata": {},
   "source": []
  },
  {
   "cell_type": "markdown",
   "metadata": {},
   "source": [
    "### Python Basics\n",
    "\n",
    "python version 3.7\n",
    "\n",
    "- scripting language\n",
    "- object oriented \n",
    "- "
   ]
  },
  {
   "cell_type": "code",
   "execution_count": 10,
   "metadata": {},
   "outputs": [
    {
     "name": "stdout",
     "output_type": "stream",
     "text": [
      "Good afternoon !||Hello Python\n"
     ]
    }
   ],
   "source": [
    "# python comments\n",
    "\n",
    "print(\"Good afternoon\",\"!\", end=\"||\") #Basic output\n",
    "print(\"Hello Python\")"
   ]
  },
  {
   "cell_type": "code",
   "execution_count": null,
   "metadata": {},
   "outputs": [],
   "source": []
  },
  {
   "cell_type": "markdown",
   "metadata": {},
   "source": [
    "### Assignment"
   ]
  },
  {
   "cell_type": "code",
   "execution_count": 22,
   "metadata": {},
   "outputs": [
    {
     "name": "stdout",
     "output_type": "stream",
     "text": [
      "123 234 345\n"
     ]
    }
   ],
   "source": [
    "n1= 123456 #single variable assignment\n",
    "\n",
    "n2=n3=n4=n1         #multivariable assignment\n",
    "\n",
    "a,b,c = 123, 234 ,345                    #multi variable assignment with different values\n",
    "\n",
    "print(a,b,c)"
   ]
  },
  {
   "cell_type": "code",
   "execution_count": null,
   "metadata": {},
   "outputs": [],
   "source": []
  },
  {
   "cell_type": "markdown",
   "metadata": {},
   "source": [
    "### Data types\n",
    "\n",
    "- int\n",
    "- float\n",
    "- string"
   ]
  },
  {
   "cell_type": "code",
   "execution_count": 56,
   "metadata": {},
   "outputs": [
    {
     "data": {
      "text/plain": [
       "12.0"
      ]
     },
     "execution_count": 56,
     "metadata": {},
     "output_type": "execute_result"
    }
   ],
   "source": [
    "\n",
    "type(a)\n",
    "s1= \"python\"\n",
    "type(s1)\n",
    "\n",
    "f1 =12.345\n",
    "float(f1)\n",
    "\n",
    "int(f1)\n",
    "\n",
    "str(int(f1))\n",
    "float(str((int(f1))))"
   ]
  },
  {
   "cell_type": "markdown",
   "metadata": {},
   "source": [
    "### Arithmetic operations\n",
    "- +\n",
    "- -\n",
    "- *\n",
    "- /\n",
    "- %\n",
    "- **"
   ]
  },
  {
   "cell_type": "code",
   "execution_count": 64,
   "metadata": {},
   "outputs": [
    {
     "data": {
      "text/plain": [
       "6130687873308026945890176790042303730066739281"
      ]
     },
     "execution_count": 64,
     "metadata": {},
     "output_type": "execute_result"
    }
   ],
   "source": [
    "n1 % 11\n",
    "\n",
    "n3= n2**123456\n",
    "\n",
    "type(n3)\n",
    "len(str(n3))\n",
    "\n",
    "atoms= 10**82\n",
    "len(str(atoms))\n",
    "type(str(atoms))\n",
    "\n",
    "122321**9"
   ]
  },
  {
   "cell_type": "code",
   "execution_count": null,
   "metadata": {},
   "outputs": [],
   "source": []
  },
  {
   "cell_type": "markdown",
   "metadata": {},
   "source": [
    "### Conditionals"
   ]
  },
  {
   "cell_type": "code",
   "execution_count": 70,
   "metadata": {},
   "outputs": [
    {
     "name": "stdout",
     "output_type": "stream",
     "text": [
      "False\n"
     ]
    }
   ],
   "source": [
    "if atoms < 10**9:\n",
    "    print(\"True\")\n",
    "else:\n",
    "    print(\"False\")\n"
   ]
  },
  {
   "cell_type": "code",
   "execution_count": 2,
   "metadata": {},
   "outputs": [
    {
     "name": "stdout",
     "output_type": "stream",
     "text": [
      "Odd\n"
     ]
    }
   ],
   "source": [
    "#Check if a number is even\n",
    "\n",
    "n=235\n",
    "if n%2==0:\n",
    "    print(\"Even\")\n",
    "else:\n",
    "    print(\"Odd\")"
   ]
  },
  {
   "cell_type": "code",
   "execution_count": 1,
   "metadata": {},
   "outputs": [
    {
     "name": "stdout",
     "output_type": "stream",
     "text": [
      "Enter the first no5\n",
      "Enter the second no7\n",
      "Enter the third no8\n",
      "8 is the greatest no\n"
     ]
    }
   ],
   "source": [
    "# check greatest of three numbers\n",
    "\n",
    "n1=input(\"Enter the first no\")\n",
    "n2=input(\"Enter the second no\")\n",
    "n3=input(\"Enter the third no\")\n",
    "\n",
    "if n1>n2 and n1>n3:\n",
    "    print(n1,\"is the greatest no\")\n",
    "elif n2>n3:\n",
    "    print(n2,\"is the greatest no\")\n",
    "else:\n",
    "    print(n3,\"is the greatest no\")"
   ]
  },
  {
   "cell_type": "code",
   "execution_count": 2,
   "metadata": {},
   "outputs": [
    {
     "name": "stdout",
     "output_type": "stream",
     "text": [
      "-1 is the greatest\n"
     ]
    }
   ],
   "source": [
    "n1,n2,n3=-1,-100,-50\n",
    "\n",
    "if -1>-100 and -1>-50:\n",
    "    print(n1,\"is the greatest\")\n",
    "    \n",
    "\n"
   ]
  },
  {
   "cell_type": "code",
   "execution_count": 7,
   "metadata": {
    "scrolled": true
   },
   "outputs": [
    {
     "name": "stdout",
     "output_type": "stream",
     "text": [
      "Enter a year2019\n",
      "2019 not a leap year\n"
     ]
    }
   ],
   "source": [
    "# check if a year is a leap year\n",
    "\n",
    "n1=int(input(\"Enter a year\"))\n",
    "\n",
    "if n1%400==0:\n",
    "    print(n1,\"is a leap year\")\n",
    "elif n1%4==0 and n1%100!=0: \n",
    "    print(n1,\"is a leap year\")\n",
    "else:\n",
    "    print(n1,\"not a leap year\")"
   ]
  },
  {
   "cell_type": "code",
   "execution_count": 17,
   "metadata": {},
   "outputs": [
    {
     "name": "stdout",
     "output_type": "stream",
     "text": [
      "Enter a value67\n",
      "Enter upper bound110\n",
      "Enter lower bound45\n",
      "67 exists in a given range\n"
     ]
    }
   ],
   "source": [
    "# chcek if a given no exists in a given range\n",
    "\n",
    "n=int(input(\"Enter a value\"))\n",
    "ub=int(input(\"Enter upper bound\"))\n",
    "lb=int(input(\"Enter lower bound\"))\n",
    "\n",
    "if n>= lb and n<= ub:\n",
    "    print(n,\"exists in a given range\")\n",
    "else:\n",
    "    print(n,\"not in a given range\")"
   ]
  },
  {
   "cell_type": "code",
   "execution_count": 32,
   "metadata": {
    "scrolled": true
   },
   "outputs": [
    {
     "name": "stdout",
     "output_type": "stream",
     "text": [
      "5\n"
     ]
    }
   ],
   "source": [
    "# calucalate the no of digits in a number\n",
    "\n",
    "n1=12345\n",
    "n2=len(str(n1))\n",
    "print(n2)\n"
   ]
  },
  {
   "cell_type": "code",
   "execution_count": 9,
   "metadata": {},
   "outputs": [
    {
     "name": "stdout",
     "output_type": "stream",
     "text": [
      "Enter a no25\n",
      "25 is not a multiple of 10\n"
     ]
    }
   ],
   "source": [
    "# check if a number is multiple of 10\n",
    "\n",
    "n=int(input(\"Enter a no\"))\n",
    "\n",
    "if n%10==0:\n",
    "    print(n,\"is a multiple of 10\")\n",
    "else:\n",
    "    print(n,\"is not a multiple of 10\")\n"
   ]
  },
  {
   "cell_type": "code",
   "execution_count": 11,
   "metadata": {},
   "outputs": [
    {
     "name": "stdout",
     "output_type": "stream",
     "text": [
      "Enter a no3\n",
      "3 is not a factor of 1000\n"
     ]
    }
   ],
   "source": [
    "# check if a number is a factor of 1000\n",
    "\n",
    "n=int(input(\"Enter a no\"))\n",
    "\n",
    "if 1000%n==0:\n",
    "    print(n,\"is a factor of 1000\")\n",
    "else:\n",
    "    print(n,\"is not a factor of 1000\")\n"
   ]
  },
  {
   "cell_type": "code",
   "execution_count": 21,
   "metadata": {},
   "outputs": [
    {
     "name": "stdout",
     "output_type": "stream",
     "text": [
      "12345 is equal to a number 12345\n"
     ]
    }
   ],
   "source": [
    "# Check if given string is equal to a number\n",
    "\n",
    "s1=\"12345\"\n",
    "n1=12345\n",
    "\n",
    "if str(n1)==s1:\n",
    "    print(n1,\"is equal to a number\",s1)\n",
    "else:\n",
    "    print(n1,\"not equal to a number\",s1)"
   ]
  },
  {
   "cell_type": "code",
   "execution_count": 22,
   "metadata": {},
   "outputs": [
    {
     "data": {
      "text/plain": [
       "11.090536506409418"
      ]
     },
     "execution_count": 22,
     "metadata": {},
     "output_type": "execute_result"
    }
   ],
   "source": [
    "#Calcualate the square root of a number without functions\n",
    "\n",
    "n1=123\n",
    "n1**0.5"
   ]
  },
  {
   "cell_type": "code",
   "execution_count": 26,
   "metadata": {},
   "outputs": [
    {
     "name": "stdout",
     "output_type": "stream",
     "text": [
      "31622400000000000\n"
     ]
    }
   ],
   "source": [
    "# calculate the number of nano seconds in a \n",
    "#given year(considering leap year logic)\n",
    "\n",
    "year=2016\n",
    "\n",
    "if year%400==0 or (year%100!=0 and year%4==0):\n",
    "    print(366*24*60*60*(10**9))\n",
    "else:\n",
    "    print(365*24*60*60*(10**9))"
   ]
  },
  {
   "cell_type": "code",
   "execution_count": null,
   "metadata": {},
   "outputs": [],
   "source": []
  }
 ],
 "metadata": {
  "kernelspec": {
   "display_name": "Python 3",
   "language": "python",
   "name": "python3"
  },
  "language_info": {
   "codemirror_mode": {
    "name": "ipython",
    "version": 3
   },
   "file_extension": ".py",
   "mimetype": "text/x-python",
   "name": "python",
   "nbconvert_exporter": "python",
   "pygments_lexer": "ipython3",
   "version": "3.7.3"
  }
 },
 "nbformat": 4,
 "nbformat_minor": 2
}
