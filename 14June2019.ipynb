{
 "cells": [
  {
   "cell_type": "markdown",
   "metadata": {},
   "source": [
    "## Problem Solving and Programming in python-Day4\n",
    "\n",
    "## Date: 14-June-2019\n",
    "\n",
    "### Day Objectives:\n",
    "\n",
    "- Python Data Structures\n",
    "  - Lists\n",
    "  - Tuples\n",
    "  - Dictionaries\n",
    "- Basic Problem set on Data structure \n",
    "- Advance problem set\n",
    "- Packages and modules in python"
   ]
  },
  {
   "cell_type": "code",
   "execution_count": null,
   "metadata": {},
   "outputs": [],
   "source": []
  },
  {
   "cell_type": "markdown",
   "metadata": {},
   "source": [
    "### Python Data Structures\n",
    "\n",
    "\n",
    "### Lists"
   ]
  },
  {
   "cell_type": "code",
   "execution_count": 36,
   "metadata": {},
   "outputs": [
    {
     "data": {
      "text/plain": [
       "382.0"
      ]
     },
     "execution_count": 36,
     "metadata": {},
     "output_type": "execute_result"
    }
   ],
   "source": [
    "\n",
    "## Create a list:\n",
    "li = [123,234,2323]\n",
    "li                     ## Accessing the entire list\n",
    "\n",
    "li[1]                 ## Accessing an element with index in a list\n",
    "\n",
    "li[1:]               ## Accessing all elements from second to last\n",
    "\n",
    "li[::-1]            ## eversing the entire list\n",
    "\n",
    "li=li[::-1]        ## Changing the original to reverse the elements in list\n",
    "\n",
    "li=li[::-1]\n",
    "\n",
    "li[::2]          ## Accessing even elements in the list\n",
    "\n",
    "li[1::2]\n",
    "\n",
    "## Lists can be accessed, manipulated in two different ways.\n",
    "    ## Direct Referencing  --> Using [] brackets\n",
    "    ## Indirect Referencing --> Through the functions\n",
    "\n",
    "li.append(345)      ## Adding an element at the end of the List \n",
    "\n",
    "li.insert(1,121)   ## Adding an element at the required index position\n",
    "\n",
    "li.sort()         ## Sort elements in ascending oreder\n",
    "\n",
    "li.pop()         ## Remove the last element in a list\n",
    "   \n",
    "li.pop()        ## Remove an element at the particular index \n",
    "\n",
    "li2 = [234,456,789]   ## Merge list2 into list1\n",
    "\n",
    "li.extend(li2)\n",
    "\n",
    "sum(li)\n",
    "max(li)\n",
    "len(li)\n",
    "\n",
    "## Average of elements in the given list\n",
    "sum(li)/len(li)\n",
    "\n",
    "## Average of all the alternate elements in the even positions\n",
    "sum(li[::2])/len(li[::2])\n",
    "sum(li[1::2])/len(li[1::2])     ## Average of all elements in odd position\n",
    "\n"
   ]
  },
  {
   "cell_type": "code",
   "execution_count": 95,
   "metadata": {},
   "outputs": [
    {
     "data": {
      "text/plain": [
       "123"
      ]
     },
     "execution_count": 95,
     "metadata": {},
     "output_type": "execute_result"
    }
   ],
   "source": [
    "## Function to identify the second largest element in the list\n",
    "li = [123,23,12,23,23333]\n",
    "\n",
    "def secondLargestElement(li):\n",
    "    temp=0\n",
    "    x=len(li)\n",
    "    m=max(li)\n",
    "    s=li[0]\n",
    "    for j in li:\n",
    "        if j > s and j <m:\n",
    "            s=j\n",
    "    return s        \n",
    "       \n",
    "\n",
    "\n",
    "secondLargestElement(li)   \n",
    "    "
   ]
  },
  {
   "cell_type": "code",
   "execution_count": 67,
   "metadata": {},
   "outputs": [
    {
     "data": {
      "text/plain": [
       "123"
      ]
     },
     "execution_count": 67,
     "metadata": {},
     "output_type": "execute_result"
    }
   ],
   "source": [
    "## Function to identify the second largest element in the list\n",
    "li=[123,23,45,56,345]\n",
    "def secondLargestElement(li):\n",
    "    li.sort()\n",
    "    li.pop()\n",
    "    ma=max(li)\n",
    "    return ma\n",
    "secondLargestElement(li)"
   ]
  },
  {
   "cell_type": "code",
   "execution_count": 97,
   "metadata": {},
   "outputs": [
    {
     "name": "stdout",
     "output_type": "stream",
     "text": [
      "enter required highest position number2\n"
     ]
    },
    {
     "data": {
      "text/plain": [
       "('the nth largest number is', 123)"
      ]
     },
     "execution_count": 97,
     "metadata": {},
     "output_type": "execute_result"
    }
   ],
   "source": [
    " ## Any largest number in the given list\n",
    "li=[123,23,45,56,345]\n",
    "n=int(input(\"enter required highest position number\"))\n",
    "def genericlargest(li,n):\n",
    "    li.sort()\n",
    "    li=li[::-1]\n",
    "    return (\"the nth largest number is\",li[n-1])\n",
    "   \n",
    "genericlargest(li,n)"
   ]
  },
  {
   "cell_type": "code",
   "execution_count": 120,
   "metadata": {},
   "outputs": [
    {
     "data": {
      "text/plain": [
       "1"
      ]
     },
     "execution_count": 120,
     "metadata": {},
     "output_type": "execute_result"
    }
   ],
   "source": [
    "## Function to search for data in a list\n",
    "## Search for the key in the list\n",
    "## Return -1 if the data is not exists\n",
    "\n",
    "li=[23,34,56,67,4545]\n",
    "key=int(input(\"enter the number\"))\n",
    "def linearsearch(li,key):\n",
    "    for i in range (0,len(li)):\n",
    "        if li[i]==key:\n",
    "            return i\n",
    "        else:\n",
    "            return -1\n",
    "\n",
    "linearsearch(li,key) \n",
    "\n",
    "\n",
    "# ## Another Method:\n",
    "\n",
    "li=[23,45,56,4545]\n",
    "def linearsearch2(li,key):\n",
    "    for i in li:\n",
    "        if i==key:\n",
    "            return li.index(key)\n",
    "    return -1\n",
    "    \n",
    "linearsearch2(li,45)\n",
    "\n",
    "\n",
    "\n",
    "def linearsearch3(li,key):\n",
    "    if key in li:\n",
    "        return li.index(key) \n",
    "    return -1\n",
    "    \n",
    "linearsearch3(li,45)\n",
    "    "
   ]
  },
  {
   "cell_type": "code",
   "execution_count": 129,
   "metadata": {},
   "outputs": [
    {
     "data": {
      "text/plain": [
       "5"
      ]
     },
     "execution_count": 129,
     "metadata": {},
     "output_type": "execute_result"
    }
   ],
   "source": [
    "## Function to count the occurances of a character in the given string\n",
    "## \"Python Programming\",--> search for m is repeating....-->2\n",
    "\n",
    "def charcheck(s,c):\n",
    "    count=0\n",
    "    for ch in s:\n",
    "        if ch==c:\n",
    "            count+=1\n",
    "    return count\n",
    "charcheck(\"programming\",'m')\n",
    "\n",
    "def countcharoccurance(s,c):\n",
    "    return s.count(c)\n",
    "countcharoccurance(\"programmingmmm\",\"m\")\n",
    "\n",
    "\n",
    "## Function to find the number of occurances of the substring \n",
    "## \"ababdfdfsds\",\"ab\"-->2\n"
   ]
  },
  {
   "cell_type": "code",
   "execution_count": 134,
   "metadata": {},
   "outputs": [
    {
     "name": "stdout",
     "output_type": "stream",
     "text": [
      "3\n"
     ]
    }
   ],
   "source": [
    "s = 'nunununbbdfdf'\n",
    "sb = 'nun'\n",
    "results = 0\n",
    "sub_len = len(sb)\n",
    "for i in range(len(s)):\n",
    "    if s[i:i+sub_len] == sb:\n",
    "        results += 1\n",
    "print (results)"
   ]
  },
  {
   "cell_type": "code",
   "execution_count": null,
   "metadata": {},
   "outputs": [],
   "source": []
  }
 ],
 "metadata": {
  "kernelspec": {
   "display_name": "Python 3",
   "language": "python",
   "name": "python3"
  },
  "language_info": {
   "codemirror_mode": {
    "name": "ipython",
    "version": 3
   },
   "file_extension": ".py",
   "mimetype": "text/x-python",
   "name": "python",
   "nbconvert_exporter": "python",
   "pygments_lexer": "ipython3",
   "version": "3.7.3"
  }
 },
 "nbformat": 4,
 "nbformat_minor": 2
}
