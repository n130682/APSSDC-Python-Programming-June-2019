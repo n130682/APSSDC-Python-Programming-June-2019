{
 "cells": [
  {
   "cell_type": "markdown",
   "metadata": {},
   "source": [
    "#### Day objectives\n",
    "\n",
    "- String Slicing \n",
    "- Function In Python\n",
    "- Basic Problems related to conditional statements using functions\n",
    "- Iteration In Python\n",
    "- Python Data structures "
   ]
  },
  {
   "cell_type": "code",
   "execution_count": null,
   "metadata": {},
   "outputs": [],
   "source": []
  },
  {
   "cell_type": "markdown",
   "metadata": {},
   "source": [
    "## String Slicing"
   ]
  },
  {
   "cell_type": "code",
   "execution_count": 18,
   "metadata": {},
   "outputs": [
    {
     "data": {
      "text/plain": [
       "'nhy'"
      ]
     },
     "execution_count": 18,
     "metadata": {},
     "output_type": "execute_result"
    }
   ],
   "source": [
    "s1=\"Python\"\n",
    "\n",
    "s1[0] #Accessing the first character in a string\n",
    "s1[1] #Accessing the second character in a string\n",
    "s1[len(s1)-1] #Accessing the last character in a string\n",
    "\n",
    "s1[-1] #Another way of accessing the last character in a string\n",
    "\n",
    "s1[-2] #Another way of accesing the penultimate character of the string \n",
    "\n",
    "s1[0:2] #Accessing the first two characters in a string\n",
    "\n",
    "s1[-2:] #Accessing the last two characters in a string\n",
    "\n",
    "s1[4:] #only it is apllicable when string length is 6 #Accessing all characters 5th character to end of string\n",
    "\n",
    "s1[1:-1] #Accessing all characters except first and last character\n",
    "\n",
    "#Accessing the middle character\n",
    "s1[len(s1)//2]\n",
    "\n",
    "s1[-1::-1] # Reverse of a string\n",
    "\n",
    "s1[-1:-3:-1] #Accessing the last two characters in reverse order\n",
    "\n",
    "s1[len(s1)//2:(len(s1)//2)-2:-1]#Reverse the middle two characters in an even length string\n",
    "\n",
    "#Accessing alternate characters in a string\n",
    "#\"Python\" -> \"pto\"\n",
    "\n",
    "s1[::2]\n",
    "\n",
    "#Accessing alternate characters of a string in reverse order\n",
    "#\"Python\" -> \"nhy\"\n",
    "s1[::-2]"
   ]
  },
  {
   "cell_type": "code",
   "execution_count": null,
   "metadata": {},
   "outputs": [],
   "source": [
    " "
   ]
  },
  {
   "cell_type": "markdown",
   "metadata": {},
   "source": [
    "## Functions"
   ]
  },
  {
   "cell_type": "code",
   "execution_count": 19,
   "metadata": {},
   "outputs": [
    {
     "data": {
      "text/plain": [
       "'nohtyP'"
      ]
     },
     "execution_count": 19,
     "metadata": {},
     "output_type": "execute_result"
    }
   ],
   "source": [
    "# Function to reverse a string\n",
    "def reverseString(s):\n",
    "    return s[::-1]\n",
    "\n",
    "reverseString(\"Python\")\n",
    "    "
   ]
  },
  {
   "cell_type": "code",
   "execution_count": 31,
   "metadata": {},
   "outputs": [
    {
     "data": {
      "text/plain": [
       "False"
      ]
     },
     "execution_count": 31,
     "metadata": {},
     "output_type": "execute_result"
    }
   ],
   "source": [
    "# Function check if a string is a palindrome\n",
    "\n",
    "def palindrome(s):\n",
    "    if s==s[::-1]:\n",
    "        return True\n",
    "    else:\n",
    "        return False\n",
    "palindrome(\"abc\")"
   ]
  },
  {
   "cell_type": "code",
   "execution_count": 34,
   "metadata": {},
   "outputs": [
    {
     "name": "stdout",
     "output_type": "stream",
     "text": [
      "Enter a year2016\n"
     ]
    },
    {
     "data": {
      "text/plain": [
       "True"
      ]
     },
     "execution_count": 34,
     "metadata": {},
     "output_type": "execute_result"
    }
   ],
   "source": [
    "# Function check if a given year is a leap year\n",
    "year=int(input(\"Enter a year\"))\n",
    "def leapyear(year):\n",
    "    if year%400==0 or (year%100!=0 and year%4==0):\n",
    "        return True\n",
    "    else:\n",
    "        return False\n",
    "\n",
    "leapyear(year)"
   ]
  },
  {
   "cell_type": "code",
   "execution_count": 40,
   "metadata": {},
   "outputs": [
    {
     "name": "stdout",
     "output_type": "stream",
     "text": [
      "Enter a number132454657658\n"
     ]
    },
    {
     "data": {
      "text/plain": [
       "12"
      ]
     },
     "execution_count": 40,
     "metadata": {},
     "output_type": "execute_result"
    }
   ],
   "source": [
    "# Function to count number of digits in a given number\n",
    "n=(input(\"Enter a number\"))\n",
    "def noofdigits(n):\n",
    "    return len(n)\n",
    "noofdigits(n)\n",
    "\n"
   ]
  },
  {
   "cell_type": "code",
   "execution_count": 43,
   "metadata": {
    "scrolled": true
   },
   "outputs": [
    {
     "data": {
      "text/plain": [
       "65"
      ]
     },
     "execution_count": 43,
     "metadata": {},
     "output_type": "execute_result"
    }
   ],
   "source": [
    "# Function to identify the gretest of 4 numbers\n",
    "def greatest(n1,n2,n3,n4):\n",
    "    if n1>n2 and n1>n3 and n1>n4:\n",
    "        return n1\n",
    "    elif n2>n3 and n3>n4:\n",
    "        return n2\n",
    "    elif n3>n4:\n",
    "        return n3\n",
    "    else:\n",
    "        return n4\n",
    "    \n",
    "greatest(15,25,53,65)"
   ]
  },
  {
   "cell_type": "markdown",
   "metadata": {},
   "source": []
  },
  {
   "cell_type": "markdown",
   "metadata": {},
   "source": [
    "### Iteration\n",
    "\n",
    "- for\n",
    "- while\n",
    "\n",
    "\n",
    "###### For Loop in Python\n",
    "\n",
    "[101,210+1]\n",
    "\n",
    "for number in range(101,210+1)"
   ]
  },
  {
   "cell_type": "code",
   "execution_count": 52,
   "metadata": {
    "scrolled": false
   },
   "outputs": [
    {
     "name": "stdout",
     "output_type": "stream",
     "text": [
      "1 2 3 4 5 6 7 8 9 10 11 12 13 14 15 16 17 18 19 20 21 22 23 24 25 26 27 28 29 30 \n",
      "1 2 3 4 5 6 7 8 9 10 11 12 13 14 15 16 17 18 19 20 \n"
     ]
    }
   ],
   "source": [
    "# Function to print n natural numbers using for loop\n",
    "def printNnaturalNumbers(n):\n",
    "    for counter in range(1,n+1):\n",
    "        print(counter,end=\" \")\n",
    "    print()\n",
    "    return\n",
    "printNnaturalNumbers(30)\n",
    "printNnaturalNumbers(20)"
   ]
  },
  {
   "cell_type": "code",
   "execution_count": 55,
   "metadata": {},
   "outputs": [
    {
     "name": "stdout",
     "output_type": "stream",
     "text": [
      "1 2 3 4 5 6 7 8 9 "
     ]
    }
   ],
   "source": [
    "# Function to print n natural numbers using a while loop\n",
    "\n",
    "def nNaturalNumbers(n):\n",
    "    counter=1\n",
    "    while counter <=n:\n",
    "        print(counter,end=\" \")\n",
    "        counter=counter+1\n",
    "    return\n",
    "\n",
    "nNaturalNumbers(9)\n",
    "\n"
   ]
  },
  {
   "cell_type": "code",
   "execution_count": 19,
   "metadata": {},
   "outputs": [
    {
     "name": "stdout",
     "output_type": "stream",
     "text": [
      "500 502 504 506 508 510 512 514 516 518 520 522 524 "
     ]
    }
   ],
   "source": [
    "# Function to print the alternate values in a given number\n",
    "\n",
    "#[500,550] -> 500 502 504 ......550\n",
    "#(500,550) -> 501 503 505 507 .....549\n",
    "#range(500,550) -> 500 501 502 .....549\n",
    "#For all set based functions in python have start value as inclusive and end value as exclusive\n",
    "\n",
    "def alternate(lb,ub):\n",
    "    for i in range(lb,ub+1,2):\n",
    "        print(i,end=\" \")\n",
    "    return \n",
    "alternate(500,525)"
   ]
  },
  {
   "cell_type": "code",
   "execution_count": 29,
   "metadata": {},
   "outputs": [
    {
     "name": "stdout",
     "output_type": "stream",
     "text": [
      "10 9 8 7 6 5 4 3 2 1 "
     ]
    }
   ],
   "source": [
    "# Function to print reverse of a given range in the \n",
    "\n",
    "def reverse(lb,ub):\n",
    "    for i in range(ub,lb-1,-1):\n",
    "        print(i,end=\" \")\n",
    "    return\n",
    "reverse(1,10)"
   ]
  },
  {
   "cell_type": "code",
   "execution_count": 30,
   "metadata": {},
   "outputs": [
    {
     "name": "stdout",
     "output_type": "stream",
     "text": [
      "9 7 5 3 1 "
     ]
    }
   ],
   "source": [
    "# Function to print the odd numbers in reverse in a range\n",
    "\n",
    "def oddNumbers(lb,ub):\n",
    "    for i in range(ub,lb-1,-1):\n",
    "        if i%2==1:\n",
    "            print(i,end=\" \")\n",
    "    return  \n",
    "oddNumbers(1,10)"
   ]
  },
  {
   "cell_type": "code",
   "execution_count": 34,
   "metadata": {},
   "outputs": [
    {
     "data": {
      "text/plain": [
       "55"
      ]
     },
     "execution_count": 34,
     "metadata": {},
     "output_type": "execute_result"
    }
   ],
   "source": [
    "# Function to calculate the sum of numbers in a range\n",
    "\n",
    "def sum(lb,ub):\n",
    "    s=0\n",
    "    for i in range(lb,ub+1):\n",
    "        s=s+i\n",
    "    return s\n",
    "sum(1,10)\n",
    "        "
   ]
  },
  {
   "cell_type": "code",
   "execution_count": 4,
   "metadata": {},
   "outputs": [
    {
     "name": "stdout",
     "output_type": "stream",
     "text": [
      "6 12 18 "
     ]
    }
   ],
   "source": [
    "#Function to print all numbers divisible by 6\n",
    "#and not a factor of 100 in a given (lb,ub) inclusive\n",
    "\n",
    "def divisible(lb,ub):\n",
    "    for i in range(lb,ub+1):\n",
    "        if i%6==0 and 100%i!=0:\n",
    "            print(i,end=\" \")\n",
    "divisible(1,20)"
   ]
  },
  {
   "cell_type": "code",
   "execution_count": 7,
   "metadata": {},
   "outputs": [
    {
     "name": "stdout",
     "output_type": "stream",
     "text": [
      "1 2 3 4 6 12 "
     ]
    }
   ],
   "source": [
    "## Function to generate the list of factors for a given numbers\n",
    "#12-> 1 2 3 4 6 12\n",
    "\n",
    "def factors(n):\n",
    "    for i in range(1,n+1):\n",
    "        if n%i==0:\n",
    "            print(i,end=\" \")\n",
    "factors(12)"
   ]
  },
  {
   "cell_type": "code",
   "execution_count": 9,
   "metadata": {},
   "outputs": [
    {
     "data": {
      "text/plain": [
       "36"
      ]
     },
     "execution_count": 9,
     "metadata": {},
     "output_type": "execute_result"
    }
   ],
   "source": [
    "#Function to calculate the averages of cubes of all even numbers in a given range\n",
    "\n",
    "def average(lb,ub):\n",
    "    s=0\n",
    "    count=0\n",
    "    for i in range(lb,ub+1):\n",
    "        if i%2==0:\n",
    "            s=s+i**3\n",
    "            count=count+1\n",
    "    return s//count\n",
    "average(1,5)"
   ]
  },
  {
   "cell_type": "code",
   "execution_count": 21,
   "metadata": {},
   "outputs": [
    {
     "data": {
      "text/plain": [
       "120"
      ]
     },
     "execution_count": 21,
     "metadata": {},
     "output_type": "execute_result"
    }
   ],
   "source": [
    "#Function to calculate the factorial of a given number\n",
    "\n",
    "def factorial(n):\n",
    "    m=1\n",
    "    for i in range(1,n+1):\n",
    "        m=m*i\n",
    "    return m\n",
    "factorial(5)\n",
    "           \n",
    "        \n",
    "    "
   ]
  },
  {
   "cell_type": "code",
   "execution_count": 14,
   "metadata": {},
   "outputs": [
    {
     "data": {
      "text/plain": [
       "False"
      ]
     },
     "execution_count": 14,
     "metadata": {},
     "output_type": "execute_result"
    }
   ],
   "source": [
    "# Check if given number is a prime or not\n",
    "\n",
    "def isprime(n):\n",
    "    count=0\n",
    "    for i in range(1,n+1):\n",
    "        if n%i==0:\n",
    "            count=count+1\n",
    "    if count==2:\n",
    "        return True\n",
    "    else:\n",
    "        return False\n",
    "isprime(8)\n",
    "        "
   ]
  },
  {
   "cell_type": "code",
   "execution_count": 17,
   "metadata": {},
   "outputs": [
    {
     "data": {
      "text/plain": [
       "4.25"
      ]
     },
     "execution_count": 17,
     "metadata": {},
     "output_type": "execute_result"
    }
   ],
   "source": [
    "#Function to calculate the average of first N Prime numbers\n",
    "\n",
    "def avgofprime(n):\n",
    "    sum=0\n",
    "    count=0\n",
    "    for i in range(1,n+1):\n",
    "        x=isprime(i)\n",
    "        if x==1:\n",
    "            sum+=i\n",
    "            count+=1\n",
    "    avg=sum/count\n",
    "    return avg\n",
    "avgofprime(10)\n",
    "\n",
    "                      \n",
    "            \n",
    "                "
   ]
  },
  {
   "cell_type": "code",
   "execution_count": 5,
   "metadata": {},
   "outputs": [
    {
     "name": "stdout",
     "output_type": "stream",
     "text": [
      "6 28 "
     ]
    }
   ],
   "source": [
    "#Function to generate all perfect numbers in a given range\n",
    "def isperfect(i):\n",
    "    s=0\n",
    "    for j in range(1,i):\n",
    "        if i%j==0:\n",
    "            s=s+j\n",
    "    if s==i:\n",
    "        return True\n",
    "    else:\n",
    "        return False\n",
    "        \n",
    "def allperfect(start,end):\n",
    "    for i in range(start,end+1):\n",
    "        if isperfect(i):\n",
    "            print(i,end=\" \")\n",
    "    return\n",
    "            \n",
    "allperfect(1,30)        \n",
    "    \n",
    "        \n",
    "        "
   ]
  },
  {
   "cell_type": "markdown",
   "metadata": {},
   "source": [
    "### Advanced probelm set"
   ]
  },
  {
   "cell_type": "code",
   "execution_count": 25,
   "metadata": {},
   "outputs": [
    {
     "name": "stdout",
     "output_type": "stream",
     "text": [
      "1 2 6 24 120 "
     ]
    },
    {
     "data": {
      "text/plain": [
       "30.6"
      ]
     },
     "execution_count": 25,
     "metadata": {},
     "output_type": "execute_result"
    }
   ],
   "source": [
    "#Function to calculate average of all factorials in a given range\n",
    "    \n",
    "def avgoffactorials(n):\n",
    "    sum=0\n",
    "    count=0\n",
    "    m=1\n",
    "    for i in range(1,n+1):\n",
    "        m=m*i\n",
    "        print(m,end=\" \")\n",
    "        sum+=m\n",
    "        count+=1\n",
    "    return sum/count\n",
    "avgoffactorials(5)\n",
    "        "
   ]
  },
  {
   "cell_type": "code",
   "execution_count": 4,
   "metadata": {},
   "outputs": [
    {
     "name": "stdout",
     "output_type": "stream",
     "text": [
      "1 2 3 4 5 6 7 8 9 153 "
     ]
    }
   ],
   "source": [
    "#Function to generate N odd armstrong numbers\n",
    "def isarmstrong(n):\n",
    "    n1=n\n",
    "    sum=0\n",
    "    l=len(str(n))\n",
    "    while(n>0):\n",
    "        r=n%10\n",
    "        sum=sum+r**l\n",
    "        n=n//10\n",
    "    if sum==n1:\n",
    "        return True\n",
    "    else:\n",
    "        return False\n",
    "\n",
    "        \n",
    "    \n",
    "    \n",
    "def Noddarmstrong(n):\n",
    "    for i in range(1,n+1):\n",
    "        if isarmstrong(i):\n",
    "            print(i,end=\" \")\n",
    "    return \n",
    "Noddarmstrong(200)\n",
    "        "
   ]
  },
  {
   "cell_type": "code",
   "execution_count": 5,
   "metadata": {},
   "outputs": [
    {
     "name": "stdout",
     "output_type": "stream",
     "text": [
      "10 x 100 = 1000\n",
      "10 x 101 = 1010\n",
      "10 x 102 = 1020\n",
      "10 x 103 = 1030\n",
      "10 x 104 = 1040\n",
      "10 x 105 = 1050\n",
      "10 x 106 = 1060\n",
      "10 x 107 = 1070\n",
      "10 x 108 = 1080\n",
      "10 x 109 = 1090\n",
      "10 x 110 = 1100\n"
     ]
    }
   ],
   "source": [
    "### Function to generate Multiplication table for a number in a given range\n",
    "### 10 in the range(100, 102) inclusive\n",
    "### 10 x 100 = 1000\n",
    "### 10 x 101 = 1010\n",
    "### 10 x 102 = 1020\n",
    "\n",
    "def multilplication(n,lb,ub):\n",
    "    for i in range(lb,ub+1):\n",
    "        print(n, \"x\", i, \"=\",n*i)\n",
    "    return\n",
    "\n",
    "multilplication(10,100,110)\n",
    "\n"
   ]
  },
  {
   "cell_type": "code",
   "execution_count": 43,
   "metadata": {},
   "outputs": [
    {
     "data": {
      "text/plain": [
       "3.0"
      ]
     },
     "execution_count": 43,
     "metadata": {},
     "output_type": "execute_result"
    }
   ],
   "source": [
    "# Function to print average of all numbers in a given range\n",
    "#(1,5)-> 3\n",
    "\n",
    "def average(lb,ub):\n",
    "    sum=0\n",
    "    for i in range(lb,ub+1):\n",
    "        sum=sum+i\n",
    "        #count=count+1\n",
    "    return sum/(ub-lb+1)\n",
    "average(1,5)"
   ]
  },
  {
   "cell_type": "code",
   "execution_count": 50,
   "metadata": {},
   "outputs": [
    {
     "name": "stdout",
     "output_type": "stream",
     "text": [
      "2000 2004 2008 2012 2016 2020 "
     ]
    }
   ],
   "source": [
    "# Function to generate all leap years in a given time period\n",
    "#2000-2020 -> 2000 2004 2008 2012 2016\n",
    "\n",
    "def isLeapYear(i):\n",
    "    if (i%400==0 or i%100!=0 and i%4==0):\n",
    "        return True\n",
    "    else:\n",
    "        return False\n",
    "        \n",
    "def leapyear(start,end):\n",
    "    for i in range(start,end+1):\n",
    "        if isLeapYear(i):\n",
    "            print(i,end=\" \")\n",
    "    return \n",
    "leapyear(2000,2020)\n",
    "        "
   ]
  },
  {
   "cell_type": "code",
   "execution_count": 4,
   "metadata": {},
   "outputs": [
    {
     "data": {
      "text/plain": [
       "7671"
      ]
     },
     "execution_count": 4,
     "metadata": {},
     "output_type": "execute_result"
    }
   ],
   "source": [
    "# Calculate number of days in a given timeperiod using leapyear\n",
    "#for every year in the given time period, if the year is leap year\n",
    "\n",
    "def isLeapYear(i):\n",
    "    if (i%400==0 or i%100!=0 and i%4==0):\n",
    "        return True\n",
    "    else:\n",
    "        return False\n",
    "    \n",
    "def numberofDays(start,end):\n",
    "    sum=0\n",
    "    for i in range(start,end+1):\n",
    "        if isLeapYear(i):\n",
    "            sum=sum+366\n",
    "        else:\n",
    "            sum+=365\n",
    "    return sum\n",
    "numberofDays(2000,2020)\n"
   ]
  },
  {
   "cell_type": "code",
   "execution_count": 42,
   "metadata": {},
   "outputs": [
    {
     "data": {
      "text/plain": [
       "1464"
      ]
     },
     "execution_count": 42,
     "metadata": {},
     "output_type": "execute_result"
    }
   ],
   "source": [
    "## Function to calculate the number of hours for a given period\n",
    "## numberOfHours (11,1975, 3,1999)\n",
    "## numberOfHours(5,2019, 6,2019)\n",
    "\n",
    "def isLeapYear(i):\n",
    "    if (i%400==0 or i%100!=0 and i%4==0):\n",
    "        return True\n",
    "    else:\n",
    "        return False\n",
    "\n",
    "def numberofDays(start,end):\n",
    "    sum=0\n",
    "    for i in range(start,end+1):\n",
    "        if isLeapYear(i):\n",
    "            sum=sum+366\n",
    "        else:\n",
    "            sum+=365\n",
    "    return sum\n",
    "    \n",
    "\n",
    "\n",
    "def numberofDaysMonth(month,year):\n",
    "    if month==2:\n",
    "        if isLeapYear(year):\n",
    "            return 29\n",
    "        else:\n",
    "            return 28\n",
    "    elif(month <=7 and month % 2 != 0) or (month >= 8 and month % 2 == 0):\n",
    "        return 31\n",
    "    else:\n",
    "        return 30\n",
    "    \n",
    "# numberofDaysMonth(2,2019)\n",
    "\n",
    "def daysInStartYear(startmonth,startyear):\n",
    "    days=0\n",
    "    for month in range(startmonth,13):\n",
    "        days+=numberofDaysMonth(month,startyear)\n",
    "    return days\n",
    "\n",
    "# daysInStartYear(2,2019)\n",
    "\n",
    "def daysInEndYear(endmonth,endyear):\n",
    "    days=0\n",
    "    for month in range(1,endmonth+1):\n",
    "        days+=numberofDaysMonth(month,endyear)\n",
    "    return days\n",
    "\n",
    "# daysInEndYear(6,2019)\n",
    "\n",
    "\n",
    "# daysInMiddleYear(2000,2020)\n",
    "\n",
    "\n",
    "def numberOfHours(startmonth,startyear,endmonth,endyear):\n",
    "    days=0\n",
    "    if startyear != endyear:\n",
    "        days+=daysInStartYear(startmonth,startyear)\n",
    "        days+=daysInEndYear(endmonth,endyear)\n",
    "    if endyear-startyear==2:\n",
    "        days+=numberofDays(startyear+1,startyear+1)\n",
    "    elif endyear-startyear>2:\n",
    "        days+= numberofDays(startyear+1,endyear-1)\n",
    "    else:\n",
    "        for month in range(startmonth,endmonth+1):\n",
    "            days+= numberofDaysMonth(month,startyear)\n",
    "    return 24*days\n",
    "\n",
    "numberOfHours(5,2019,6,2019)\n"
   ]
  },
  {
   "cell_type": "code",
   "execution_count": null,
   "metadata": {},
   "outputs": [],
   "source": []
  }
 ],
 "metadata": {
  "kernelspec": {
   "display_name": "Python 3",
   "language": "python",
   "name": "python3"
  },
  "language_info": {
   "codemirror_mode": {
    "name": "ipython",
    "version": 3
   },
   "file_extension": ".py",
   "mimetype": "text/x-python",
   "name": "python",
   "nbconvert_exporter": "python",
   "pygments_lexer": "ipython3",
   "version": "3.7.3"
  }
 },
 "nbformat": 4,
 "nbformat_minor": 2
}
