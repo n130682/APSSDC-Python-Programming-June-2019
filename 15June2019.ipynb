{
 "cells": [
  {
   "cell_type": "markdown",
   "metadata": {},
   "source": [
    "### Practice Questions:"
   ]
  },
  {
   "cell_type": "code",
   "execution_count": 10,
   "metadata": {},
   "outputs": [
    {
     "name": "stdout",
     "output_type": "stream",
     "text": [
      "1\n"
     ]
    }
   ],
   "source": [
    "# Function to print the number closest to zero in array (if multiple numbers are there print greater value)\n",
    "li=[-1,-2,2,-3,1]\n",
    "li.sort()\n",
    "li\n",
    "pl=[]\n",
    "for i in li:\n",
    "    pl.append (abs(i))\n",
    "\n",
    "pl.sort()\n",
    "if pl[0] in li:\n",
    "    print (pl[0])\n",
    "else:\n",
    "    print (-pl[0])"
   ]
  },
  {
   "cell_type": "code",
   "execution_count": 1,
   "metadata": {},
   "outputs": [
    {
     "name": "stdout",
     "output_type": "stream",
     "text": [
      "-1\n"
     ]
    }
   ],
   "source": [
    "# Function to print the number farest to zero in array (if multiple numbers are there print greater value)\n",
    "li=[-1,-2,2,-3,1]\n",
    "li.sort()\n",
    "li\n",
    "pl=[]\n",
    "for i in li:\n",
    "    pl.append (abs(i))\n",
    "\n",
    "pl.sort()\n",
    "if pl[0] in li:\n",
    "    print (-pl[0])\n",
    "else:\n",
    "    print (pl[0])"
   ]
  },
  {
   "cell_type": "markdown",
   "metadata": {},
   "source": [
    "## Problem-3\n",
    "\n",
    "- You are given three numbers a,b,c.\n",
    "- Write a program to find the largest number\n",
    "- Which is less than or equl to c and leaves \n",
    "- remainder b when divided by a\n"
   ]
  },
  {
   "cell_type": "code",
   "execution_count": 7,
   "metadata": {},
   "outputs": [
    {
     "data": {
      "text/plain": [
       "-1"
      ]
     },
     "execution_count": 7,
     "metadata": {},
     "output_type": "execute_result"
    }
   ],
   "source": [
    "def cal(a,b,c):\n",
    "    for i in range(c,a-1,-1):\n",
    "        if i % a == b:\n",
    "            return i\n",
    "    return -1\n",
    "\n",
    "cal(1,2,4)"
   ]
  },
  {
   "cell_type": "code",
   "execution_count": null,
   "metadata": {},
   "outputs": [],
   "source": []
  },
  {
   "cell_type": "markdown",
   "metadata": {},
   "source": [
    "###  Basic Problem set on Hacker Earth (Basic I/O category\n",
    "- Count Divisors\n",
    "- Factorial\n",
    "- Toggle String\n",
    "- Palindrome"
   ]
  },
  {
   "cell_type": "code",
   "execution_count": 16,
   "metadata": {},
   "outputs": [
    {
     "name": "stdout",
     "output_type": "stream",
     "text": [
      "1 10 1\n"
     ]
    },
    {
     "data": {
      "text/plain": [
       "10"
      ]
     },
     "execution_count": 16,
     "metadata": {},
     "output_type": "execute_result"
    }
   ],
   "source": [
    "## You have been given 3 integers - l, r and k. Find how many numbers between l and r \n",
    "##(both inclusive) are divisible by k.\n",
    "## You do not need to print these numbers, you just have to find their count.\n",
    "\n",
    "def countdivisor(i,j,k):\n",
    "    count=0\n",
    "    for n in range(i,j+1):\n",
    "        if n % k==0:\n",
    "            count+=1\n",
    "    return count\n",
    "\n",
    "s=input()\n",
    "s=s.split()\n",
    "for n in s:\n",
    "    i=int(s[0])\n",
    "    j=int(s[1])\n",
    "    k=int(s[2])\n",
    "            \n",
    "countdivisor(i,j,k)\n"
   ]
  },
  {
   "cell_type": "code",
   "execution_count": 3,
   "metadata": {},
   "outputs": [
    {
     "data": {
      "text/plain": [
       "10"
      ]
     },
     "execution_count": 3,
     "metadata": {},
     "output_type": "execute_result"
    }
   ],
   "source": [
    "def countdivisor(i,j,k):\n",
    "    count=0\n",
    "    for n in range(i,j+1):\n",
    "        if n % k==0:\n",
    "            count+=1\n",
    "    return count\n",
    "countdivisor(1,10,1)"
   ]
  },
  {
   "cell_type": "code",
   "execution_count": 2,
   "metadata": {},
   "outputs": [
    {
     "name": "stdout",
     "output_type": "stream",
     "text": [
      "120\n"
     ]
    }
   ],
   "source": [
    "# You have been given a positive integer N. \n",
    "# You need to find and print the Factorial of this number. \n",
    "# The Factorial of a positive integer N refers to the \n",
    "# product of all number in the range from 1 to N.\n",
    "# You can read more about the factorial of a number\n",
    "\n",
    "def factorial(n):\n",
    "    count=1\n",
    "    for i in range(n,0,-1):\n",
    "        count=count*i\n",
    "    print(count)\n",
    "factorial(5)\n"
   ]
  },
  {
   "cell_type": "code",
   "execution_count": 1,
   "metadata": {},
   "outputs": [
    {
     "name": "stdout",
     "output_type": "stream",
     "text": [
      "RenUkA\n",
      "rENuKa"
     ]
    }
   ],
   "source": [
    "# You have been given a String S consisting of uppercase and lowercase English alphabets. \n",
    "# You need to change the case of each alphabet in this String.\n",
    "# That is, all the uppercase letters should be converted to lowercase and \n",
    "# all the lowercase letters should be converted to uppercase.\n",
    "# You need to then print the resultant String to output.\n",
    "\n",
    "k=input()\n",
    "for i in k:\n",
    "    if i.isupper():\n",
    "        print (i.lower(),end=\"\")\n",
    "    else:\n",
    "        print(i.upper(),end=\"\")"
   ]
  },
  {
   "cell_type": "code",
   "execution_count": 3,
   "metadata": {},
   "outputs": [
    {
     "name": "stdout",
     "output_type": "stream",
     "text": [
      "madam\n",
      "YES\n"
     ]
    }
   ],
   "source": [
    "# You have been given a String S. You need to find and print whether\n",
    "# this string is a palindrome or not.If yes, print \"YES\" (without quotes),\n",
    "# else print \"NO\" (without quotes).\n",
    "\n",
    "def stringpalindrome(s):\n",
    "    if s==s[::-1]:\n",
    "        print(\"YES\")\n",
    "    else:\n",
    "        print(\"NO\")\n",
    "        \n",
    "s=input()\n",
    "stringpalindrome(s)"
   ]
  },
  {
   "cell_type": "code",
   "execution_count": 3,
   "metadata": {},
   "outputs": [
    {
     "name": "stdout",
     "output_type": "stream",
     "text": [
      "2\n",
      "sumit mitsu\n",
      "YES\n",
      "book kobo\n",
      "YES\n"
     ]
    }
   ],
   "source": [
    "\n",
    "n=int(input())\n",
    "def twostring(s,t):\n",
    "    f=1\n",
    "    if len(s)!=len(t):\n",
    "        return \"NO\"\n",
    "    else:\n",
    "        for i in range(len(s)):\n",
    "            if s.count(s[i])!=t.count(s[i]):\n",
    "                return \"NO\"\n",
    "        if f==1:\n",
    "            return \"YES\"\n",
    "for i in range(n):\n",
    "    st=input().split()\n",
    "    s=st[0]\n",
    "    t=st[1]\n",
    "    print (twostring(s,t))\n",
    "    \n",
    "    "
   ]
  },
  {
   "cell_type": "code",
   "execution_count": 13,
   "metadata": {},
   "outputs": [
    {
     "name": "stdout",
     "output_type": "stream",
     "text": [
      "5 41 "
     ]
    }
   ],
   "source": [
    "\n",
    "def duration(starthr,startmin,endhr,endmin):\n",
    "    a=(starthr*60)+startmin\n",
    "    b=(endhr*60)+endmin\n",
    "    differ=b-a\n",
    "    hr=differ//60\n",
    "    min=differ%60\n",
    "    print(hr,end=\" \")\n",
    "    print(min,end=\" \")\n",
    "    \n",
    "duration(2,42,8,23)\n",
    "    \n",
    "    "
   ]
  },
  {
   "cell_type": "code",
   "execution_count": 14,
   "metadata": {},
   "outputs": [
    {
     "name": "stdout",
     "output_type": "stream",
     "text": [
      "2\n",
      "1 44 2 14\n",
      "0 30\n",
      "2 42 8 23\n",
      "5 41\n"
     ]
    }
   ],
   "source": [
    "def duration(sh,sm,eh,em):\n",
    "    a=(sh*60)+sm\n",
    "    b=(eh*60)+em\n",
    "    differ=b-a\n",
    "    hr=differ//60\n",
    "    min=differ%60\n",
    "    print(hr,min)\n",
    "    \n",
    "   \n",
    "n=int(input())\n",
    "for i in range(n):\n",
    "    s=input().split()\n",
    "    sh=int(s[0])\n",
    "    sm=int(s[1])\n",
    "    eh=int(s[2])\n",
    "    em=int(s[3])\n",
    "    duration(sh,sm,eh,em) "
   ]
  },
  {
   "cell_type": "code",
   "execution_count": null,
   "metadata": {},
   "outputs": [],
   "source": []
  }
 ],
 "metadata": {
  "kernelspec": {
   "display_name": "Python 3",
   "language": "python",
   "name": "python3"
  },
  "language_info": {
   "codemirror_mode": {
    "name": "ipython",
    "version": 3
   },
   "file_extension": ".py",
   "mimetype": "text/x-python",
   "name": "python",
   "nbconvert_exporter": "python",
   "pygments_lexer": "ipython3",
   "version": "3.7.3"
  }
 },
 "nbformat": 4,
 "nbformat_minor": 2
}
